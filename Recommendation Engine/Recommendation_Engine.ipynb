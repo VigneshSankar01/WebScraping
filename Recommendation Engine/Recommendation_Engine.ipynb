{
 "cells": [
  {
   "cell_type": "markdown",
   "id": "47fb589a",
   "metadata": {},
   "source": [
    "# Content Based Movie Recomendation Engine in Python."
   ]
  },
  {
   "cell_type": "markdown",
   "id": "428592e1",
   "metadata": {},
   "source": [
    "### Import the Necessary Libraries "
   ]
  },
  {
   "cell_type": "code",
   "execution_count": 1,
   "id": "f80a85dd",
   "metadata": {},
   "outputs": [],
   "source": [
    "#IMPORT THE NECESSARY LIBRARIES\n",
    "\n",
    "import pandas as pd\n",
    "import numpy as np\n",
    "from sklearn.feature_extraction.text import CountVectorizer\n",
    "from sklearn.metrics.pairwise import cosine_similarity\n",
    "import warnings\n",
    "warnings.filterwarnings(\"ignore\")"
   ]
  },
  {
   "cell_type": "markdown",
   "id": "8fe41e8c",
   "metadata": {},
   "source": [
    "### Read the Data "
   ]
  },
  {
   "cell_type": "code",
   "execution_count": 2,
   "id": "6ce8452b",
   "metadata": {},
   "outputs": [
    {
     "data": {
      "text/html": [
       "<div>\n",
       "<style scoped>\n",
       "    .dataframe tbody tr th:only-of-type {\n",
       "        vertical-align: middle;\n",
       "    }\n",
       "\n",
       "    .dataframe tbody tr th {\n",
       "        vertical-align: top;\n",
       "    }\n",
       "\n",
       "    .dataframe thead th {\n",
       "        text-align: right;\n",
       "    }\n",
       "</style>\n",
       "<table border=\"1\" class=\"dataframe\">\n",
       "  <thead>\n",
       "    <tr style=\"text-align: right;\">\n",
       "      <th></th>\n",
       "      <th>Unnamed: 0</th>\n",
       "      <th>Title</th>\n",
       "      <th>Movie Rating</th>\n",
       "      <th>Director</th>\n",
       "      <th>Release Year</th>\n",
       "      <th>Genres</th>\n",
       "      <th>Cast</th>\n",
       "      <th>TagLine</th>\n",
       "      <th>Top Review</th>\n",
       "      <th>Meta Score</th>\n",
       "    </tr>\n",
       "  </thead>\n",
       "  <tbody>\n",
       "    <tr>\n",
       "      <th>0</th>\n",
       "      <td>0</td>\n",
       "      <td>Shingeki no kyojin</td>\n",
       "      <td>9.0</td>\n",
       "      <td>Yûki Kaji</td>\n",
       "      <td>2013</td>\n",
       "      <td>,Animation,Action,Adventure,Drama,Fantasy,Horror</td>\n",
       "      <td>Josh Grelle,Yûki Kaji,Marina Inoue</td>\n",
       "      <td>The face of humanity's extinction. (season 1)</td>\n",
       "      <td>Legendary show.</td>\n",
       "      <td>0.0</td>\n",
       "    </tr>\n",
       "    <tr>\n",
       "      <th>1</th>\n",
       "      <td>1</td>\n",
       "      <td>American Horror Stories</td>\n",
       "      <td>6.1</td>\n",
       "      <td>Brad Falchuk</td>\n",
       "      <td>2021</td>\n",
       "      <td>,Drama,Horror,Thriller</td>\n",
       "      <td>Sierra McCormick,Paris Jackson,Merrin Dungey</td>\n",
       "      <td>A</td>\n",
       "      <td>What even is this</td>\n",
       "      <td>0.0</td>\n",
       "    </tr>\n",
       "    <tr>\n",
       "      <th>2</th>\n",
       "      <td>2</td>\n",
       "      <td>Black Widow</td>\n",
       "      <td>6.8</td>\n",
       "      <td>Cate Shortland</td>\n",
       "      <td>2021</td>\n",
       "      <td>,Action,Adventure,Sci-Fi</td>\n",
       "      <td>Jac Schaeffer,Ned Benson,Scarlett Johansson</td>\n",
       "      <td>She's Done Running From Her Past.</td>\n",
       "      <td>MCU Version of a Filler Episode</td>\n",
       "      <td>67.0</td>\n",
       "    </tr>\n",
       "    <tr>\n",
       "      <th>3</th>\n",
       "      <td>3</td>\n",
       "      <td>What If...?</td>\n",
       "      <td>7.6</td>\n",
       "      <td>Jeffrey Wright</td>\n",
       "      <td>2021</td>\n",
       "      <td>,Animation,Action,Adventure,Fantasy</td>\n",
       "      <td>Matthew Wood,Jeffrey Wright,Terri Douglas</td>\n",
       "      <td>Enter the Multiverse of infinite possibilities</td>\n",
       "      <td>Marvel, please take your cue from the original...</td>\n",
       "      <td>0.0</td>\n",
       "    </tr>\n",
       "    <tr>\n",
       "      <th>4</th>\n",
       "      <td>4</td>\n",
       "      <td>Afterlife of the Party</td>\n",
       "      <td>5.8</td>\n",
       "      <td>Stephen Herek</td>\n",
       "      <td>2021</td>\n",
       "      <td>,Comedy,Drama,Fantasy,Romance</td>\n",
       "      <td>Victoria Justice,Midori Francis,Robyn Scott</td>\n",
       "      <td>She's got one more chance to fix the life she ...</td>\n",
       "      <td>Hope</td>\n",
       "      <td>0.0</td>\n",
       "    </tr>\n",
       "  </tbody>\n",
       "</table>\n",
       "</div>"
      ],
      "text/plain": [
       "   Unnamed: 0                    Title  Movie Rating        Director  \\\n",
       "0           0       Shingeki no kyojin           9.0       Yûki Kaji   \n",
       "1           1  American Horror Stories           6.1    Brad Falchuk   \n",
       "2           2              Black Widow           6.8  Cate Shortland   \n",
       "3           3              What If...?           7.6  Jeffrey Wright   \n",
       "4           4   Afterlife of the Party           5.8   Stephen Herek   \n",
       "\n",
       "   Release Year                                            Genres  \\\n",
       "0          2013  ,Animation,Action,Adventure,Drama,Fantasy,Horror   \n",
       "1          2021                            ,Drama,Horror,Thriller   \n",
       "2          2021                          ,Action,Adventure,Sci-Fi   \n",
       "3          2021               ,Animation,Action,Adventure,Fantasy   \n",
       "4          2021                     ,Comedy,Drama,Fantasy,Romance   \n",
       "\n",
       "                                           Cast  \\\n",
       "0            Josh Grelle,Yûki Kaji,Marina Inoue   \n",
       "1  Sierra McCormick,Paris Jackson,Merrin Dungey   \n",
       "2   Jac Schaeffer,Ned Benson,Scarlett Johansson   \n",
       "3     Matthew Wood,Jeffrey Wright,Terri Douglas   \n",
       "4   Victoria Justice,Midori Francis,Robyn Scott   \n",
       "\n",
       "                                             TagLine  \\\n",
       "0      The face of humanity's extinction. (season 1)   \n",
       "1                                                  A   \n",
       "2                  She's Done Running From Her Past.   \n",
       "3     Enter the Multiverse of infinite possibilities   \n",
       "4  She's got one more chance to fix the life she ...   \n",
       "\n",
       "                                          Top Review  Meta Score  \n",
       "0                                    Legendary show.         0.0  \n",
       "1                                  What even is this         0.0  \n",
       "2                    MCU Version of a Filler Episode        67.0  \n",
       "3  Marvel, please take your cue from the original...         0.0  \n",
       "4                                               Hope         0.0  "
      ]
     },
     "execution_count": 2,
     "metadata": {},
     "output_type": "execute_result"
    }
   ],
   "source": [
    "#Read The CSV file SCraped in the Recommendation DataFrame Scrape DataSet:\n",
    "\n",
    "data = pd.read_csv('movie_recommend.csv')\n",
    "data.head()"
   ]
  },
  {
   "cell_type": "markdown",
   "id": "0d679724",
   "metadata": {},
   "source": [
    "### Get the Measure of Central Tendencies:"
   ]
  },
  {
   "cell_type": "code",
   "execution_count": 3,
   "id": "dd11e2cb",
   "metadata": {},
   "outputs": [
    {
     "data": {
      "text/html": [
       "<div>\n",
       "<style scoped>\n",
       "    .dataframe tbody tr th:only-of-type {\n",
       "        vertical-align: middle;\n",
       "    }\n",
       "\n",
       "    .dataframe tbody tr th {\n",
       "        vertical-align: top;\n",
       "    }\n",
       "\n",
       "    .dataframe thead th {\n",
       "        text-align: right;\n",
       "    }\n",
       "</style>\n",
       "<table border=\"1\" class=\"dataframe\">\n",
       "  <thead>\n",
       "    <tr style=\"text-align: right;\">\n",
       "      <th></th>\n",
       "      <th>Unnamed: 0</th>\n",
       "      <th>Movie Rating</th>\n",
       "      <th>Release Year</th>\n",
       "      <th>Meta Score</th>\n",
       "    </tr>\n",
       "  </thead>\n",
       "  <tbody>\n",
       "    <tr>\n",
       "      <th>count</th>\n",
       "      <td>750.00000</td>\n",
       "      <td>750.000000</td>\n",
       "      <td>750.000000</td>\n",
       "      <td>750.000000</td>\n",
       "    </tr>\n",
       "    <tr>\n",
       "      <th>mean</th>\n",
       "      <td>374.50000</td>\n",
       "      <td>7.464000</td>\n",
       "      <td>2015.214667</td>\n",
       "      <td>21.086667</td>\n",
       "    </tr>\n",
       "    <tr>\n",
       "      <th>std</th>\n",
       "      <td>216.65064</td>\n",
       "      <td>1.059428</td>\n",
       "      <td>8.156385</td>\n",
       "      <td>30.296430</td>\n",
       "    </tr>\n",
       "    <tr>\n",
       "      <th>min</th>\n",
       "      <td>0.00000</td>\n",
       "      <td>3.300000</td>\n",
       "      <td>1967.000000</td>\n",
       "      <td>0.000000</td>\n",
       "    </tr>\n",
       "    <tr>\n",
       "      <th>25%</th>\n",
       "      <td>187.25000</td>\n",
       "      <td>6.900000</td>\n",
       "      <td>2012.000000</td>\n",
       "      <td>0.000000</td>\n",
       "    </tr>\n",
       "    <tr>\n",
       "      <th>50%</th>\n",
       "      <td>374.50000</td>\n",
       "      <td>7.550000</td>\n",
       "      <td>2019.000000</td>\n",
       "      <td>0.000000</td>\n",
       "    </tr>\n",
       "    <tr>\n",
       "      <th>75%</th>\n",
       "      <td>561.75000</td>\n",
       "      <td>8.300000</td>\n",
       "      <td>2021.000000</td>\n",
       "      <td>50.000000</td>\n",
       "    </tr>\n",
       "    <tr>\n",
       "      <th>max</th>\n",
       "      <td>749.00000</td>\n",
       "      <td>9.400000</td>\n",
       "      <td>2022.000000</td>\n",
       "      <td>94.000000</td>\n",
       "    </tr>\n",
       "  </tbody>\n",
       "</table>\n",
       "</div>"
      ],
      "text/plain": [
       "       Unnamed: 0  Movie Rating  Release Year  Meta Score\n",
       "count   750.00000    750.000000    750.000000  750.000000\n",
       "mean    374.50000      7.464000   2015.214667   21.086667\n",
       "std     216.65064      1.059428      8.156385   30.296430\n",
       "min       0.00000      3.300000   1967.000000    0.000000\n",
       "25%     187.25000      6.900000   2012.000000    0.000000\n",
       "50%     374.50000      7.550000   2019.000000    0.000000\n",
       "75%     561.75000      8.300000   2021.000000   50.000000\n",
       "max     749.00000      9.400000   2022.000000   94.000000"
      ]
     },
     "execution_count": 3,
     "metadata": {},
     "output_type": "execute_result"
    }
   ],
   "source": [
    "#LOOK AT THE DESCRIPTION OF THE DATASET:\n",
    "\n",
    "data.describe()"
   ]
  },
  {
   "cell_type": "markdown",
   "id": "2b9b5755",
   "metadata": {},
   "source": [
    "### Get the Data Type of the Columns in the Dataset:"
   ]
  },
  {
   "cell_type": "code",
   "execution_count": 4,
   "id": "8f275fd3",
   "metadata": {},
   "outputs": [
    {
     "name": "stdout",
     "output_type": "stream",
     "text": [
      "<class 'pandas.core.frame.DataFrame'>\n",
      "RangeIndex: 750 entries, 0 to 749\n",
      "Data columns (total 10 columns):\n",
      " #   Column        Non-Null Count  Dtype  \n",
      "---  ------        --------------  -----  \n",
      " 0   Unnamed: 0    750 non-null    int64  \n",
      " 1   Title         750 non-null    object \n",
      " 2   Movie Rating  750 non-null    float64\n",
      " 3   Director      750 non-null    object \n",
      " 4   Release Year  750 non-null    int64  \n",
      " 5   Genres        750 non-null    object \n",
      " 6   Cast          750 non-null    object \n",
      " 7   TagLine       750 non-null    object \n",
      " 8   Top Review    750 non-null    object \n",
      " 9   Meta Score    750 non-null    float64\n",
      "dtypes: float64(2), int64(2), object(6)\n",
      "memory usage: 58.7+ KB\n"
     ]
    }
   ],
   "source": [
    "#GET THE DATATYPE OF THE ELEMENTS IN THE DATASET:\n",
    "\n",
    "data.info()"
   ]
  },
  {
   "cell_type": "markdown",
   "id": "c50705bf",
   "metadata": {},
   "source": [
    "### Identify Number of Duplicate Values in the DataSet "
   ]
  },
  {
   "cell_type": "code",
   "execution_count": 5,
   "id": "d49e4e11",
   "metadata": {},
   "outputs": [
    {
     "data": {
      "text/plain": [
       "True     387\n",
       "False    363\n",
       "Name: Title, dtype: int64"
      ]
     },
     "execution_count": 5,
     "metadata": {},
     "output_type": "execute_result"
    }
   ],
   "source": [
    "#IDENTIFY THE DUPLICATE ELEMENTS IN THE DATA SET BY TITLES:\n",
    "\n",
    "data['Title'].duplicated().value_counts()"
   ]
  },
  {
   "cell_type": "markdown",
   "id": "17bae97e",
   "metadata": {},
   "source": [
    "## Data Transformation:\n",
    "- Drop the Duplicate elements in the Data Set.\n",
    "- Combine all the Features in the Data Set into a Single Column.\n",
    "- Shuffle the elements of the DataSet and reset the Index of the dataframe.\n",
    "- Fill Unavailable information in the Top Review pandas Series."
   ]
  },
  {
   "cell_type": "code",
   "execution_count": 6,
   "id": "3f704b82",
   "metadata": {},
   "outputs": [],
   "source": [
    "#DEFINE A FUNCTION TO TRANSFORM THE DATA AND REFINE THE DATASET BY DROPPING THE DUPLICATE COLUMNS:\n",
    "\n",
    "def DATA_TRANSFORM(data):\n",
    "    data = data.drop_duplicates('Title', keep='last')\n",
    "    data['Combined Features'] =  data['Title'] + ',' + data['Director'] + ',' + data['Genres'] + ',' + data['Cast'] + ',' + data['TagLine'] + ',' + data['Top Review']\n",
    "    data = data.sample(frac=1)\n",
    "    data.reset_index(drop=True,inplace=True)\n",
    "    data.drop(data.columns[0],inplace=True,axis=1)\n",
    "    data['Top Review'].fillna('Information Unavailable',inplace=True)\n",
    "    return data"
   ]
  },
  {
   "cell_type": "markdown",
   "id": "2272b1c3",
   "metadata": {},
   "source": [
    "### Check for NULL Values:"
   ]
  },
  {
   "cell_type": "code",
   "execution_count": 7,
   "id": "cf1ad96a",
   "metadata": {},
   "outputs": [
    {
     "data": {
      "text/plain": [
       "Title                0\n",
       "Movie Rating         0\n",
       "Director             0\n",
       "Release Year         0\n",
       "Genres               0\n",
       "Cast                 0\n",
       "TagLine              0\n",
       "Top Review           0\n",
       "Meta Score           0\n",
       "Combined Features    0\n",
       "dtype: int64"
      ]
     },
     "execution_count": 7,
     "metadata": {},
     "output_type": "execute_result"
    }
   ],
   "source": [
    "#GET THE TRANSFORMED DATA:\n",
    "data = DATA_TRANSFORM(data)\n",
    "#CHECK FOR NULLL VALUES AFTER PROCESSING:\n",
    "data.isnull().sum()"
   ]
  },
  {
   "cell_type": "markdown",
   "id": "dee209cd",
   "metadata": {},
   "source": [
    "### Similarity Scores\n",
    "- Pass the Combined Features Column into the CountVectorizer function.\n",
    "- Get the Similarity Scores from the Cosine Similarity Function.\n",
    "- Sort the Movies in the Descending order of the Similarity Scores.\n",
    "- Return the sorted List of similar movies."
   ]
  },
  {
   "cell_type": "code",
   "execution_count": 8,
   "id": "57fb555b",
   "metadata": {},
   "outputs": [],
   "source": [
    "#INITIALIZE THE OBJECTS AND COMPUTE SIMILARITY SCORES:\n",
    "\n",
    "cv = CountVectorizer(stop_words='english')\n",
    "count_matrix = cv.fit_transform(data['Combined Features'])\n",
    "similarity_scores = cosine_similarity(count_matrix)\n",
    "\n",
    "#DEFINE GET SIMILAR MOVIES FUNCTION TO GET THE INDEXES OF THE SIMILAR MOVIES TO THE MOVIE LIKED BY THE USER:\n",
    "def GET_SIMILAR_MOVIES(movie_liked_by_user):\n",
    "    movie_index = data[data['Title'] == movie_liked_by_user].index.values[0]\n",
    "    similar_movies = list(enumerate(similarity_scores[movie_index]))\n",
    "    sorted_similar = sorted(similar_movies,key=lambda x:x[1],reverse=True)\n",
    "    return sorted_similar"
   ]
  },
  {
   "cell_type": "markdown",
   "id": "74a658d2",
   "metadata": {},
   "source": [
    "## Function to get the Top 10 Recommendations:\n",
    "- Get the following Information from the Data Set for the Recommended Movies.\n",
    "    - Movie Index\n",
    "    - Movie Title\n",
    "    - Genres\n",
    "    - Director\n",
    "- Create a Dictionary of the Information Available.\n",
    "- Convert the obtained information into a Data Set."
   ]
  },
  {
   "cell_type": "code",
   "execution_count": 9,
   "id": "aa5d1f59",
   "metadata": {},
   "outputs": [],
   "source": [
    "#Initialize Empty Lists to Store the Values:\n",
    "def Final_Recommendation(title):\n",
    "    recommend_movies = []\n",
    "    serial_number = []\n",
    "    movie_genre = []\n",
    "    movie_director = []\n",
    "    \n",
    "    #Get the Similar Movies from the Indexes of the Similar Sorted Movie By calling the Get Similar Movies Function:\n",
    "    i = 0\n",
    "    similar_movies = GET_SIMILAR_MOVIES(title)\n",
    "    for index in similar_movies:\n",
    "        i = i + 1\n",
    "        recommend_movies.append(data[data.index == index[0]]['Title'].values[0])\n",
    "        serial_number.append(i)\n",
    "        movie_genre.append(data[data.index == index[0]]['Genres'].values[0])\n",
    "        movie_director.append(data[data.index == index[0]]['Director'].values[0])\n",
    "        if(i>9):\n",
    "            break\n",
    "\n",
    "\n",
    "    #Create A Dictionary of the Available Columns:\n",
    "\n",
    "    Recommend_Dict ={'S. No.':serial_number,\n",
    "                     'Title':recommend_movies,\n",
    "                     'Genres':movie_genre,\n",
    "                     'Director':movie_director}\n",
    "\n",
    "\n",
    "    #Create a DataFrame out of the returned Columns and the Dictionary\n",
    "\n",
    "    Recommend_Df = pd.DataFrame(Recommend_Dict)\n",
    "    Recommend_Df.set_index('S. No.',inplace=True)\n",
    "    \n",
    "    return Recommend_Df"
   ]
  },
  {
   "cell_type": "markdown",
   "id": "1c8349f4",
   "metadata": {},
   "source": [
    "## Get the Movie Which the User Likes from the User:\n",
    "- If the Movie Does not exist in the dataset, we print information unavailable.\n",
    "- If the Movies is present in the Dataset, we return the top 10 recommended Movies."
   ]
  },
  {
   "cell_type": "code",
   "execution_count": 10,
   "id": "5dd5d434",
   "metadata": {},
   "outputs": [
    {
     "name": "stdout",
     "output_type": "stream",
     "text": [
      "Please Type the movie which you liked:Cinderella\n",
      "Movie found in the Scraped Dataset. Fetching you the Recommended Movies!\n"
     ]
    }
   ],
   "source": [
    "Movie_Liked_input = str(input('Please Type the movie which you liked:'))\n",
    "if(Movie_Liked_input in data['Title'].values):\n",
    "    print('Movie found in the Scraped Dataset. Fetching you the Recommended Movies!')\n",
    "else:\n",
    "    print('Movie not found in the Scraped Dataset. Please try once again')\n"
   ]
  },
  {
   "cell_type": "code",
   "execution_count": 11,
   "id": "7c32d625",
   "metadata": {},
   "outputs": [
    {
     "data": {
      "text/html": [
       "<div>\n",
       "<style scoped>\n",
       "    .dataframe tbody tr th:only-of-type {\n",
       "        vertical-align: middle;\n",
       "    }\n",
       "\n",
       "    .dataframe tbody tr th {\n",
       "        vertical-align: top;\n",
       "    }\n",
       "\n",
       "    .dataframe thead th {\n",
       "        text-align: right;\n",
       "    }\n",
       "</style>\n",
       "<table border=\"1\" class=\"dataframe\">\n",
       "  <thead>\n",
       "    <tr style=\"text-align: right;\">\n",
       "      <th></th>\n",
       "      <th>Title</th>\n",
       "      <th>Genres</th>\n",
       "      <th>Director</th>\n",
       "    </tr>\n",
       "    <tr>\n",
       "      <th>S. No.</th>\n",
       "      <th></th>\n",
       "      <th></th>\n",
       "      <th></th>\n",
       "    </tr>\n",
       "  </thead>\n",
       "  <tbody>\n",
       "    <tr>\n",
       "      <th>1</th>\n",
       "      <td>Cinderella</td>\n",
       "      <td>,Adventure,Comedy,Family,Fantasy,Musical,Romance</td>\n",
       "      <td>Kay Cannon</td>\n",
       "    </tr>\n",
       "    <tr>\n",
       "      <th>2</th>\n",
       "      <td>Raya and the Last Dragon</td>\n",
       "      <td>,Animation,Action,Adventure,Comedy,Family,Fantasy</td>\n",
       "      <td>Don Hall</td>\n",
       "    </tr>\n",
       "    <tr>\n",
       "      <th>3</th>\n",
       "      <td>Harley Quinn</td>\n",
       "      <td>,Animation,Action,Adventure,Comedy,Crime,Fanta...</td>\n",
       "      <td>Justin Halpern</td>\n",
       "    </tr>\n",
       "    <tr>\n",
       "      <th>4</th>\n",
       "      <td>The Addams Family 2</td>\n",
       "      <td>,Animation,Adventure,Comedy,Family,Fantasy,Hor...</td>\n",
       "      <td>Greg Tiernan</td>\n",
       "    </tr>\n",
       "    <tr>\n",
       "      <th>5</th>\n",
       "      <td>The Boss Baby: Family Business</td>\n",
       "      <td>,Animation,Adventure,Comedy,Family,Fantasy</td>\n",
       "      <td>Tom McGrath</td>\n",
       "    </tr>\n",
       "    <tr>\n",
       "      <th>6</th>\n",
       "      <td>Hotel Transylvania: Transformania</td>\n",
       "      <td>,Animation,Adventure,Comedy,Family,Fantasy,Hor...</td>\n",
       "      <td>Derek Drymon</td>\n",
       "    </tr>\n",
       "    <tr>\n",
       "      <th>7</th>\n",
       "      <td>Nightbooks</td>\n",
       "      <td>,Family,Fantasy,Horror,Mystery</td>\n",
       "      <td>David Yarovesky</td>\n",
       "    </tr>\n",
       "    <tr>\n",
       "      <th>8</th>\n",
       "      <td>Adventure Time</td>\n",
       "      <td>,Animation,Action,Adventure,Comedy,Family,Fant...</td>\n",
       "      <td>Pendleton Ward</td>\n",
       "    </tr>\n",
       "    <tr>\n",
       "      <th>9</th>\n",
       "      <td>Vivo</td>\n",
       "      <td>,Animation,Adventure,Comedy,Family,Musical,Add...</td>\n",
       "      <td>Kirk DeMicco</td>\n",
       "    </tr>\n",
       "    <tr>\n",
       "      <th>10</th>\n",
       "      <td>Luca</td>\n",
       "      <td>,Animation,Adventure,Comedy,Family,Fantasy</td>\n",
       "      <td>Enrico Casarosa</td>\n",
       "    </tr>\n",
       "  </tbody>\n",
       "</table>\n",
       "</div>"
      ],
      "text/plain": [
       "                                    Title  \\\n",
       "S. No.                                      \n",
       "1                              Cinderella   \n",
       "2                Raya and the Last Dragon   \n",
       "3                            Harley Quinn   \n",
       "4                     The Addams Family 2   \n",
       "5          The Boss Baby: Family Business   \n",
       "6       Hotel Transylvania: Transformania   \n",
       "7                              Nightbooks   \n",
       "8                          Adventure Time   \n",
       "9                                    Vivo   \n",
       "10                                   Luca   \n",
       "\n",
       "                                                   Genres         Director  \n",
       "S. No.                                                                      \n",
       "1        ,Adventure,Comedy,Family,Fantasy,Musical,Romance       Kay Cannon  \n",
       "2       ,Animation,Action,Adventure,Comedy,Family,Fantasy         Don Hall  \n",
       "3       ,Animation,Action,Adventure,Comedy,Crime,Fanta...   Justin Halpern  \n",
       "4       ,Animation,Adventure,Comedy,Family,Fantasy,Hor...     Greg Tiernan  \n",
       "5              ,Animation,Adventure,Comedy,Family,Fantasy      Tom McGrath  \n",
       "6       ,Animation,Adventure,Comedy,Family,Fantasy,Hor...     Derek Drymon  \n",
       "7                          ,Family,Fantasy,Horror,Mystery  David Yarovesky  \n",
       "8       ,Animation,Action,Adventure,Comedy,Family,Fant...   Pendleton Ward  \n",
       "9       ,Animation,Adventure,Comedy,Family,Musical,Add...     Kirk DeMicco  \n",
       "10             ,Animation,Adventure,Comedy,Family,Fantasy  Enrico Casarosa  "
      ]
     },
     "execution_count": 11,
     "metadata": {},
     "output_type": "execute_result"
    }
   ],
   "source": [
    "Final_Recommendation(Movie_Liked_input)"
   ]
  },
  {
   "cell_type": "markdown",
   "id": "697582f7",
   "metadata": {},
   "source": [
    "# Thanks!!"
   ]
  }
 ],
 "metadata": {
  "kernelspec": {
   "display_name": "Python 3",
   "language": "python",
   "name": "python3"
  },
  "language_info": {
   "codemirror_mode": {
    "name": "ipython",
    "version": 3
   },
   "file_extension": ".py",
   "mimetype": "text/x-python",
   "name": "python",
   "nbconvert_exporter": "python",
   "pygments_lexer": "ipython3",
   "version": "3.8.8"
  }
 },
 "nbformat": 4,
 "nbformat_minor": 5
}
