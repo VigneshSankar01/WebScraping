{
 "cells": [
  {
   "cell_type": "markdown",
   "id": "3501daa3",
   "metadata": {},
   "source": [
    "# WEB SCRAPING USING PYTHON!!"
   ]
  },
  {
   "cell_type": "markdown",
   "id": "24b1d820",
   "metadata": {},
   "source": [
    "### Movies always Entertain us. As Humans, our desire would be to watch the best movies in the Box Office.\n",
    "### This Python Code right here gives us the Top 10 movies in the US BOX OFFICE in IMDb as of Current Date.\n",
    "   - The Information availabe is obtained from the Box Office Section of IMDb Website.\n",
    "   - This Code uses BeautifulSoup Library of Python to Scrape Web Information available.\n",
    "   - The Obtained Information is Converted into a DataFrame using Pandas Library of Python.\n",
    "   - The End User can Run this code on His/Her Local Machine and Benefit from this."
   ]
  },
  {
   "cell_type": "markdown",
   "id": "f14ff2bc",
   "metadata": {},
   "source": [
    "##### Import requests Library from Python and Define the URL link:\n",
    "  - IMDb Website is used to scrape the Top 10 films in the US Box Office of the Week "
   ]
  },
  {
   "cell_type": "code",
   "execution_count": 12,
   "id": "470b8529",
   "metadata": {},
   "outputs": [],
   "source": [
    "import requests\n",
    "base_url = \"www.imdb.com\"\n",
    "topic_url = \"https://www.imdb.com/chart/boxoffice//\"\n",
    "\n",
    "#GET THE CONTENTS OF THE WEB PAGE USING get METHOD \n",
    "content = requests.get(topic_url)\n",
    "\n",
    "#GET THE TEXT CONTENT OF THE WEBPAGE\n",
    "page_contents = content.text\n"
   ]
  },
  {
   "cell_type": "markdown",
   "id": "5b120196",
   "metadata": {},
   "source": [
    "##### Initialize Empty List to Store the Values Obtained"
   ]
  },
  {
   "cell_type": "code",
   "execution_count": 13,
   "id": "b50bd946",
   "metadata": {},
   "outputs": [],
   "source": [
    "#DELCARE EMPTY LISTS \n",
    "\n",
    "movie_name = []\n",
    "movie_rating = []\n",
    "movie_rating_dollar = []\n",
    "movie_weeks = []\n",
    "movie_url = []\n",
    "Year_of_release = []\n",
    "Certificate = []\n",
    "Star_Rating = []\n",
    "Total_Rating = []\n",
    "Director_of_The_Film = []\n",
    "Movie_Genre = []\n",
    "Movie_Runtime = []\n",
    "Estimated_Budget = []\n",
    "Gross_Worldwide_Collection = []\n",
    "Release_Date = []"
   ]
  },
  {
   "cell_type": "markdown",
   "id": "0aaf4fc2",
   "metadata": {},
   "source": [
    "##### Import BeautifulSoup Library from Python"
   ]
  },
  {
   "cell_type": "code",
   "execution_count": 14,
   "id": "df164817",
   "metadata": {},
   "outputs": [],
   "source": [
    "from bs4 import BeautifulSoup"
   ]
  },
  {
   "cell_type": "markdown",
   "id": "44773619",
   "metadata": {},
   "source": [
    "##### Define Functions to append Data Obtained to the Lists:\n",
    " - Functions are written for better Readability and Reusability"
   ]
  },
  {
   "cell_type": "code",
   "execution_count": 15,
   "id": "5c074ca4",
   "metadata": {},
   "outputs": [],
   "source": [
    "#GET THE TITLE OF THE MOVIE FROM THE WEBSITE.\n",
    "\n",
    "def MOVIE_NAME(parsed_string):\n",
    "    td_tags = parsed_string.find_all('td',{'class':\"titleColumn\"})\n",
    "    for tags in td_tags:\n",
    "        movie_name.append(tags.text.strip())\n",
    "\n",
    "        \n",
    "#GET THE RATING OF THE MOVIE FROM THE WEBSITE.\n",
    "#THE RATING IS CONVERTED INTO FLOAT AND STORED.\n",
    "\n",
    "def MOVIE_RATING_DOLLARS(parsed_string):\n",
    "    td_tags_rating = doc.find_all('span',{'class':\"secondaryInfo\"})\n",
    "    for tags in td_tags_rating:\n",
    "        movie_rating.append(tags.text.strip())\n",
    "    for i in movie_rating:\n",
    "        i = i[1:]\n",
    "        if(i[-1] == 'M'): #RATING IN MILLIONS\n",
    "            i = i[:-1]\n",
    "            new = float(i) * 1000000 #MULTIPLIED BY 1000000\n",
    "            movie_rating_dollar.append(new)\n",
    "\n",
    "            \n",
    "#GET THE NUMBER OF WEEKS FOR WHICH THE MOVIE HAS BEEN RUNNING.   \n",
    "\n",
    "def MOVIE_WEEKS(parsed_string):\n",
    "    td_weeks = doc.find_all('td',{'class':'weeksColumn'})\n",
    "    for week in td_weeks:\n",
    "        movie_weeks.append(week.text)\n",
    "\n",
    "\n",
    "#GET THE URL OF THE MOVIE IN THE LIST.\n",
    "\n",
    "def MOVIE_URL(parsed_string):\n",
    "    a_tags_weeks = doc.find_all('a',title = True,href=True)\n",
    "    a_tags_weeks = a_tags_weeks[:10]\n",
    "    for url in a_tags_weeks:\n",
    "        movie_url.append(base_url + url['href'])\n",
    "\n",
    "#GET THE CERTIFICATION PROVIDED FOR THE MOVIE BY CBFC.\n",
    "\n",
    "def YOR_CERTIFICATE(parsed_string):\n",
    "    span_tags_yor_cert = parsed_string.find_all('span',{\"class\":\"TitleBlockMetaData__ListItemText-sc-12ein40-2 jedhex\"})\n",
    "    Year_of_release.append(span_tags_yor_cert[0].text)\n",
    "    Certificate.append(span_tags_yor_cert[1].text)\n",
    "\n",
    "#GET THE STAR RATING FOR THE MOVIE.\n",
    "\n",
    "def STAR_RATING(parsed_string):\n",
    "    span_tags_rating = parser.find_all('span',{\"class\":\"AggregateRatingButton__RatingScore-sc-1ll29m0-1 iTLWoV\"})\n",
    "    Star_Rating.append(span_tags_rating[0].text)\n",
    "\n",
    "#GET THE TOTAL REVIEW RATING FOR THE MOVIE.\n",
    "#THE RATING IS CONVERTED INTO FLOAT AND STORED.\n",
    "\n",
    "def TOTAL_RATING(parsed_string):\n",
    "    div_tags = parser.find_all('div',{\"class\":\"AggregateRatingButton__TotalRatingAmount-sc-1ll29m0-3 jkCVKJ\"})\n",
    "    div_tags = div_tags[0].text\n",
    "    if(div_tags[-1] == 'K'): #RATING IN THOUSANDS\n",
    "        div_tags = div_tags[:-1]\n",
    "        total_rating = float(div_tags) * 1000 #MULTIPLIED BY 1000.\n",
    "    Total_Rating.append(total_rating)\n",
    "\n",
    "#GET THE DIRECTOR OF THE FILM.\n",
    "\n",
    "def DIRECTOR(parsed_string):\n",
    "    a_tags = parser.find_all('a',{\"class\":\"ipc-metadata-list-item__list-content-item ipc-metadata-list-item__list-content-item--link\"})\n",
    "    Director_of_The_Film.append(a_tags[0].text)\n",
    "    \n",
    "#GET THE GENRES OF THE FILM.\n",
    "\n",
    "def MOVIE_GENRE(parsed_string):\n",
    "    a_tags_genre1 = parser.find_all('a',{'class': 'GenresAndPlot__GenreChip-cum89p-3 fzmeux ipc-chip ipc-chip--on-baseAlt'})\n",
    "    movie_genre = ''\n",
    "    for i in a_tags_genre1:\n",
    "        movie_genre=movie_genre + ' ' + i.text\n",
    "    Movie_Genre.append(movie_genre)\n",
    "    \n",
    "#GET THE RUNTIME OF THE FILM.\n",
    "\n",
    "def MOVIE_RUNTIME(parsed_string):\n",
    "    ul_tags_runtime = parser.find_all('ul',{\"class\":\"ipc-inline-list ipc-inline-list--show-dividers TitleBlockMetaData__MetaDataList-sc-12ein40-0 dxizHm baseAlt\"})\n",
    "    tt_index = ul_tags_runtime[0].text.find('h')\n",
    "    Movie_Runtime.append(ul_tags_runtime[0].text[(tt_index-1):])\n",
    "    \n",
    "\n",
    "#GET THE ESTIMATED BUDGET OF THE FILM.\n",
    "\n",
    "def ESTIMATED_BUDGET(parsed_string):\n",
    "    ul_tags_budget = parser.find_all('ul',{\"class\":\"ipc-metadata-list ipc-metadata-list--dividers-none ipc-metadata-list--compact BoxOffice__MetaDataListBoxOffice-sc-40s2pl-0 fxZYqi ipc-metadata-list--base\"})\n",
    "    #IF THE ESTIMATED BUDGET IS NOT AVAILABLE, APPEND THAT THE INFORMATION IS UNAVAILABLE.\n",
    "    if ('Budget' not in ul_tags_budget[0].text):\n",
    "        Estimated_Budget.append('Budget information unavailable')\n",
    "    else:\n",
    "        Budget_index_start = ul_tags_budget[0].text.find('Budget')\n",
    "        Budget_index_end = ul_tags_budget[0].text.find('(estimated)')\n",
    "        Estimated_Budget.append(ul_tags_budget[0].text[(Budget_index_start+7):(Budget_index_end-1)])\n",
    "\n",
    "        \n",
    "#GET THE GROSS WORLD COLLECTION FOR THE FILM.\n",
    "\n",
    "def GROSS_WORLD_COLLECTION(parsed_string):\n",
    "    ul_tags_budget = parser.find_all('ul',{\"class\":\"ipc-metadata-list ipc-metadata-list--dividers-none ipc-metadata-list--compact BoxOffice__MetaDataListBoxOffice-sc-40s2pl-0 fxZYqi ipc-metadata-list--base\"})\n",
    "    #IF THE GROSS COLLECTION IS NOT AVAILABLE, APPEND THAT THE INFORMATION IS UNAVAILABLE.\n",
    "    if ('Gross worldwide' not in ul_tags_budget[0].text):\n",
    "        Gross_Worldwide_Budget.append('Gross worldwide Collection information unavailable')\n",
    "    else:\n",
    "        Grossworld_index_start = ul_tags_budget[0].text.find('Gross worldwide')\n",
    "        Gross_Worldwide_Budget.append(ul_tags_budget[0].text[(Grossworld_index_start+16):])\n",
    "        \n",
    "#GET THE RELEASE DATE INFORMATION OF THE FILM.\n",
    "def RELEASE_DATE(parsed_string):\n",
    "    ul_tags_release = parser.find_all('ul',{\"class\":\"ipc-metadata-list ipc-metadata-list--dividers-all ipc-metadata-list--base\"})\n",
    "    #IF THE RELEASE DATE IS NOT AVAILABLE, APPEND THAT THE INFORMATION IS UNAVAILABLE.\n",
    "    if('Release' not in ul_tags_release[1].text):\n",
    "        Release_Date.append('Relase Date information unavailable')\n",
    "    else:\n",
    "        Release_index_start = ul_tags_release[1].text.find('Release')\n",
    "        Release_index_end = ul_tags_release[1].text.find('Count')\n",
    "        Release_Date.append(ul_tags_release[1].text[(Release_index_start+12):(Release_index_end)])"
   ]
  },
  {
   "cell_type": "markdown",
   "id": "ac91a46e",
   "metadata": {},
   "source": [
    "##### Call Relevant Functions to append the Information to the Empty Lists:"
   ]
  },
  {
   "cell_type": "code",
   "execution_count": 16,
   "id": "8658c0aa",
   "metadata": {},
   "outputs": [],
   "source": [
    "#PARSE THE HTML WEB PAGE WITH BEAUTIFULSOUP.\n",
    "doc = BeautifulSoup(page_contents,'html.parser')\n",
    "\n",
    "#CALLING THE FUNCTION TO GET THE MOVIE NAME.\n",
    "MOVIE_NAME(doc)\n",
    "\n",
    "#CALLING THE FUNCTION TO GET THE MOVIE RATING IN DOLLARS.\n",
    "MOVIE_RATING_DOLLARS(doc)\n",
    "\n",
    "#CALLING THE FUNCTION TO GET THE NUMBER FOR WEEKS FOR WHICH THE MOVIE HAS RUN.\n",
    "MOVIE_WEEKS(doc)\n",
    "\n",
    "#CALLING THE FUNCTION TO GET THE URL OF THE MOVIE THAT IS AVAILABLE.\n",
    "MOVIE_URL(doc)\n",
    "\n",
    "#ITERATING THROUGH THE LIST OF URLs OBTAINED.\n",
    "for url in movie_url:\n",
    "    mov_url =  'http://' + url\n",
    "    con = requests.get(mov_url)\n",
    "    page_content = con.text\n",
    "    \n",
    "    #PARSE THE HTML WEB PAGE WITH BEAUTIFULSOUP.\n",
    "    parser = BeautifulSoup(page_content,'html.parser')\n",
    "    \n",
    "    #CALLING THE FUNCTION TO GET THE YEAR OF RELEASE AND CERTIFICATE PROVIDED BY CBFC FOR THE FILM.\n",
    "    YOR_CERTIFICATE(parser)\n",
    "    \n",
    "    #CALLING THE FUNCTION TO GET THE STAR RATING FOR THE FILM.\n",
    "    STAR_RATING(parser)\n",
    "   \n",
    "    #CALLING THE FUNCTION TO GET THE TOTAL RATING FOR THE FILM.\n",
    "    TOTAL_RATING(parser)\n",
    "    \n",
    "    #CALLING THE FUNCTION TO GET THE DIRECTOR FOR THE FILM.\n",
    "    DIRECTOR(parser)\n",
    "    \n",
    "    #CALLING THE FUNCTION TO GET THE MOVI GENRE FOR THE FILM.\n",
    "    MOVIE_GENRE(parser)\n",
    "    \n",
    "    #CALLING THE FUNCTION TO GET THE RUNTIME FOR THE FILM.\n",
    "    MOVIE_RUNTIME(parser)\n",
    "    \n",
    "    #CALLING THE FUNCTION TO GET THE ESTIMATED BUDGET FOR THE FILM.\n",
    "    ESTIMATED_BUDGET(parser)\n",
    "   \n",
    "    #CALLING THE FUNCTION TO GET THE GROSS WORLD COLLECTION FOR THE FILM.\n",
    "    GROSS_WORLD_COLLECTION(parser)\n",
    "   \n",
    "    #CALLING THE FUNCTION TO GET THE RELEASE DATE FOR THE FILM.\n",
    "    RELEASE_DATE(parser)   "
   ]
  },
  {
   "cell_type": "markdown",
   "id": "7e42a65b",
   "metadata": {},
   "source": [
    "##### Create a Dictionary with the list of values obtained from above:"
   ]
  },
  {
   "cell_type": "code",
   "execution_count": 17,
   "id": "2f159af3",
   "metadata": {},
   "outputs": [],
   "source": [
    "dict = {'Movie Name'              : movie_name\n",
    "        ,'Collection'             : movie_rating_dollar\n",
    "        ,'Week Info'              : movie_weeks\n",
    "        ,'Movie URL'              : movie_url\n",
    "        ,'Year Of Release'        : Year_of_release\n",
    "        ,'Certificate'            : Certificate\n",
    "        ,'Star Rating'            : Star_Rating\n",
    "        ,'Total Rating'           : Total_Rating\n",
    "        ,'Director Of The Film'   : Director_of_The_Film\n",
    "        ,'Movie Genre'            : Movie_Genre\n",
    "        ,'Movie Runtime'          : Movie_Runtime\n",
    "        ,'Estimated Budget'       : Estimated_Budget\n",
    "        ,'Gross Worldwide Budget' : Gross_Worldwide_Budget\n",
    "        ,'Release Date'           : Release_Date\n",
    "       }"
   ]
  },
  {
   "cell_type": "markdown",
   "id": "6ceffd49",
   "metadata": {},
   "source": [
    "#### Creating a CSV file.\n",
    "  - Import the Pandas DataFrame as pd.\n",
    "  - Convert the Dictionary into CSV (Comma Separated Values) file.\n",
    "  - Read the Contents of the CSV file.\n",
    "  - Display the DataFrame."
   ]
  },
  {
   "cell_type": "code",
   "execution_count": 18,
   "id": "f4d04309",
   "metadata": {},
   "outputs": [],
   "source": [
    "import pandas as pd\n",
    "data = pd.DataFrame(dict)\n",
    "data.to_csv('theatre.csv')\n",
    "df = pd.read_csv('theatre.csv',index_col = None)\n",
    "df"
   ]
  }
 ],
 "metadata": {
  "kernelspec": {
   "display_name": "Python 3",
   "language": "python",
   "name": "python3"
  },
  "language_info": {
   "codemirror_mode": {
    "name": "ipython",
    "version": 3
   },
   "file_extension": ".py",
   "mimetype": "text/x-python",
   "name": "python",
   "nbconvert_exporter": "python",
   "pygments_lexer": "ipython3",
   "version": "3.8.8"
  }
 },
 "nbformat": 4,
 "nbformat_minor": 5
}
